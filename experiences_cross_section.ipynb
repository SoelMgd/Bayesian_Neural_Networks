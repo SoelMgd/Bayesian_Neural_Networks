{
 "cells": [
  {
   "cell_type": "code",
   "execution_count": 1,
   "metadata": {
    "execution": {
     "iopub.execute_input": "2025-03-12T19:16:28.067087Z",
     "iopub.status.busy": "2025-03-12T19:16:28.066767Z",
     "iopub.status.idle": "2025-03-12T19:16:33.550079Z",
     "shell.execute_reply": "2025-03-12T19:16:33.549351Z",
     "shell.execute_reply.started": "2025-03-12T19:16:28.067066Z"
    },
    "trusted": true
   },
   "outputs": [],
   "source": [
    "import numpy as np\n",
    "import torch\n",
    "import torch.nn as nn\n",
    "import torch.optim as optim\n",
    "import torch.nn.functional as F\n",
    "import torch.nn.init as init\n",
    "import torchvision\n",
    "import torchvision.transforms as transforms\n",
    "from tqdm import tqdm\n",
    "\n",
    "from torch.utils.data import TensorDataset, DataLoader\n",
    "from torchvision import datasets, transforms"
   ]
  },
  {
   "cell_type": "code",
   "execution_count": 3,
   "metadata": {
    "execution": {
     "iopub.execute_input": "2025-03-12T19:16:33.724739Z",
     "iopub.status.busy": "2025-03-12T19:16:33.724457Z",
     "iopub.status.idle": "2025-03-12T19:16:33.729141Z",
     "shell.execute_reply": "2025-03-12T19:16:33.728311Z",
     "shell.execute_reply.started": "2025-03-12T19:16:33.724714Z"
    },
    "trusted": true
   },
   "outputs": [],
   "source": [
    "torch.cuda.empty_cache()"
   ]
  },
  {
   "cell_type": "markdown",
   "metadata": {},
   "source": [
    "# Expériences sur MNIST\n",
    "\n",
    "\n",
    "Modèles à tester"
   ]
  },
  {
   "cell_type": "code",
   "execution_count": 4,
   "metadata": {
    "execution": {
     "iopub.execute_input": "2025-03-12T19:16:33.730880Z",
     "iopub.status.busy": "2025-03-12T19:16:33.730580Z",
     "iopub.status.idle": "2025-03-12T19:16:33.746541Z",
     "shell.execute_reply": "2025-03-12T19:16:33.745782Z",
     "shell.execute_reply.started": "2025-03-12T19:16:33.730860Z"
    },
    "trusted": true
   },
   "outputs": [],
   "source": [
    "# Modèle de classification avec plus de couches\n",
    "class CNN(nn.Module):\n",
    "    def __init__(self, output_dim=10):\n",
    "        super(CNN, self).__init__()\n",
    "\n",
    "        # Définir les couches convolutives\n",
    "        self.conv1 = nn.Conv2d(in_channels=1, out_channels=32, kernel_size=3, stride=1, padding=1)  # Images MNIST (1 canal)\n",
    "        self.conv2 = nn.Conv2d(in_channels=32, out_channels=64, kernel_size=3, stride=1, padding=1)\n",
    "        #self.conv3 = nn.Conv2d(in_channels=64, out_channels=128, kernel_size=3, stride=1, padding=1)\n",
    "\n",
    "        # Couches fully-connected\n",
    "        self.fc1 = nn.Linear(64 * 7 * 7, 512)  # Taille après réduction par les convolutions (28x28 -> 3x3 après convolutions et pooling)\n",
    "        self.fc2 = nn.Linear(512, output_dim)  # 10 classes pour MNIST\n",
    "\n",
    "        # Couches de pooling\n",
    "        self.pool = nn.MaxPool2d(kernel_size=2, stride=2, padding=0)\n",
    "\n",
    "    def forward(self, x):\n",
    "        x = self.pool(F.relu(self.conv1(x)))  # Conv1 + ReLU + Pooling\n",
    "        x = self.pool(F.relu(self.conv2(x)))  # Conv2 + ReLU + Pooling\n",
    "        #x = self.pool(F.relu(self.conv3(x)))  # Conv3 + ReLU + Pooling\n",
    "        x = x.view(-1, 64 * 7 * 7)  # Aplatir les données pour la couche fully-connected\n",
    "        x = F.relu(self.fc1(x))  # Fully connected 1\n",
    "        x = self.fc2(x)  # Fully connected 2 (sortie)\n",
    "        return x"
   ]
  },
  {
   "cell_type": "markdown",
   "metadata": {},
   "source": [
    "Fonctions utiles"
   ]
  },
  {
   "cell_type": "code",
   "execution_count": 5,
   "metadata": {
    "execution": {
     "iopub.execute_input": "2025-03-12T19:16:33.747445Z",
     "iopub.status.busy": "2025-03-12T19:16:33.747243Z",
     "iopub.status.idle": "2025-03-12T19:16:33.759746Z",
     "shell.execute_reply": "2025-03-12T19:16:33.758977Z",
     "shell.execute_reply.started": "2025-03-12T19:16:33.747427Z"
    },
    "trusted": true
   },
   "outputs": [],
   "source": [
    "# Fonction pour initialiser le modèle suivant le prior\n",
    "def initialize_weights(model, mean=0.0, std=1):\n",
    "    for param in model.parameters():\n",
    "        if param.requires_grad:  # S'assurer que les paramètres sont appris par le modèle\n",
    "            init.normal_(param, mean=mean, std=std)\n",
    "\n",
    "# Fonction pour mettre à jour les paramètres du modèle\n",
    "def set_model_params(model, theta):\n",
    "    with torch.no_grad():\n",
    "        for param, new_param in zip(model.parameters(), theta):\n",
    "            param.copy_(new_param)\n",
    "\n",
    "# Fonction de log-probabilité avec prior gaussien\n",
    "def log_prob_func(model, data, target, prior_std=1.0):\n",
    "    logits = model(data)\n",
    "    log_likelihood = -F.cross_entropy(logits, target, reduction='sum')\n",
    "    prior = -0.5 * sum(torch.sum(p ** 2) for p in model.parameters()) / (prior_std ** 2)\n",
    "    return log_likelihood + prior\n",
    "\n",
    "# Fonction pour collecter les gradients\n",
    "def compute_gradients(model, data, target):\n",
    "    log_prob = log_prob_func(model, data, target)\n",
    "    grads = torch.autograd.grad(log_prob, model.parameters(), create_graph=True)\n",
    "    return grads\n",
    "\n",
    "# Implémentation de Leapfrog\n",
    "def leapfrog(theta, r, step_size, num_steps, model, data, target):\n",
    "    theta = [p.clone().detach().requires_grad_(True) for p in theta]\n",
    "    r = [ri.clone().detach() for ri in r]\n",
    "\n",
    "    set_model_params(model, theta)\n",
    "    grad = compute_gradients(model, data, target)\n",
    "\n",
    "    for i in range(len(r)):\n",
    "        r[i] = r[i] + 0.5 * step_size * grad[i]\n",
    "\n",
    "    for _ in range(num_steps):\n",
    "        for i in range(len(theta)):\n",
    "            theta[i] = theta[i] + step_size * r[i]\n",
    "\n",
    "        set_model_params(model, theta)\n",
    "        grad = compute_gradients(model, data, target)\n",
    "\n",
    "        for i in range(len(r)):\n",
    "            r[i] = r[i] + step_size * grad[i]\n",
    "\n",
    "    set_model_params(model, theta)\n",
    "    grad = compute_gradients(model, data, target)\n",
    "\n",
    "    for i in range(len(r)):\n",
    "        r[i] = r[i] - 0.5 * step_size * grad[i]\n",
    "\n",
    "    return theta, r\n",
    "\n",
    "# Fonction d'acceptation Metropolis-Hastings\n",
    "def acceptance(theta, r, new_theta, new_r, model, data, target, device):\n",
    "    set_model_params(model, theta)\n",
    "    current_H = -log_prob_func(model, data, target) + 0.5 * sum(torch.sum(ri**2) for ri in r)\n",
    "\n",
    "    set_model_params(model, new_theta)\n",
    "    proposed_H = -log_prob_func(model, data, target) + 0.5 * sum(torch.sum(ri**2) for ri in new_r)\n",
    "\n",
    "    accept_prob = torch.exp(current_H - proposed_H)\n",
    "\n",
    "    if torch.rand(1).to(device) < accept_prob:\n",
    "        #print(accept_prob)\n",
    "        return new_theta, 1\n",
    "    else:\n",
    "        return theta, 0\n",
    "\n",
    "# Fonction d'inférence avec la méthode BMA\n",
    "def bma_inference(model, samples, data, device):\n",
    "    preds = []\n",
    "    for sample in samples:\n",
    "        # Charger les paramètres dans le modèle\n",
    "        for param, s in zip(model.parameters(), sample):\n",
    "            param.data = s.data  # Mettre à jour les paramètres du modèle avec l'échantillon\n",
    "\n",
    "        model.to(device)\n",
    "        output = model(data)\n",
    "        preds.append(F.softmax(output, dim=1))  # Utilisation de softmax pour obtenir les probabilités\n",
    "\n",
    "    # Calcul de la moyenne des prédictions\n",
    "    avg_preds = torch.stack(preds).mean(0)  # Moyenne sur tous les échantillons (axis 0)\n",
    "\n",
    "    # Retourner la classe avec la plus haute probabilité\n",
    "    return avg_preds, avg_preds.argmax(dim=1)"
   ]
  },
  {
   "cell_type": "markdown",
   "metadata": {},
   "source": [
    "### Génération des samples"
   ]
  },
  {
   "cell_type": "code",
   "execution_count": 6,
   "metadata": {
    "execution": {
     "iopub.execute_input": "2025-03-12T19:16:33.760717Z",
     "iopub.status.busy": "2025-03-12T19:16:33.760453Z",
     "iopub.status.idle": "2025-03-12T19:16:37.601198Z",
     "shell.execute_reply": "2025-03-12T19:16:37.600223Z",
     "shell.execute_reply.started": "2025-03-12T19:16:33.760697Z"
    },
    "trusted": true
   },
   "outputs": [
    {
     "name": "stdout",
     "output_type": "stream",
     "text": [
      "Downloading http://yann.lecun.com/exdb/mnist/train-images-idx3-ubyte.gz\n",
      "Failed to download (trying next):\n",
      "HTTP Error 404: Not Found\n",
      "\n",
      "Downloading https://ossci-datasets.s3.amazonaws.com/mnist/train-images-idx3-ubyte.gz\n",
      "Downloading https://ossci-datasets.s3.amazonaws.com/mnist/train-images-idx3-ubyte.gz to ./data/MNIST/raw/train-images-idx3-ubyte.gz\n"
     ]
    },
    {
     "name": "stderr",
     "output_type": "stream",
     "text": [
      "100%|██████████| 9.91M/9.91M [00:00<00:00, 17.9MB/s]\n"
     ]
    },
    {
     "name": "stdout",
     "output_type": "stream",
     "text": [
      "Extracting ./data/MNIST/raw/train-images-idx3-ubyte.gz to ./data/MNIST/raw\n",
      "\n",
      "Downloading http://yann.lecun.com/exdb/mnist/train-labels-idx1-ubyte.gz\n",
      "Failed to download (trying next):\n",
      "HTTP Error 404: Not Found\n",
      "\n",
      "Downloading https://ossci-datasets.s3.amazonaws.com/mnist/train-labels-idx1-ubyte.gz\n",
      "Downloading https://ossci-datasets.s3.amazonaws.com/mnist/train-labels-idx1-ubyte.gz to ./data/MNIST/raw/train-labels-idx1-ubyte.gz\n"
     ]
    },
    {
     "name": "stderr",
     "output_type": "stream",
     "text": [
      "100%|██████████| 28.9k/28.9k [00:00<00:00, 483kB/s]\n"
     ]
    },
    {
     "name": "stdout",
     "output_type": "stream",
     "text": [
      "Extracting ./data/MNIST/raw/train-labels-idx1-ubyte.gz to ./data/MNIST/raw\n",
      "\n",
      "Downloading http://yann.lecun.com/exdb/mnist/t10k-images-idx3-ubyte.gz\n",
      "Failed to download (trying next):\n",
      "HTTP Error 404: Not Found\n",
      "\n",
      "Downloading https://ossci-datasets.s3.amazonaws.com/mnist/t10k-images-idx3-ubyte.gz\n",
      "Downloading https://ossci-datasets.s3.amazonaws.com/mnist/t10k-images-idx3-ubyte.gz to ./data/MNIST/raw/t10k-images-idx3-ubyte.gz\n"
     ]
    },
    {
     "name": "stderr",
     "output_type": "stream",
     "text": [
      "100%|██████████| 1.65M/1.65M [00:00<00:00, 4.46MB/s]\n"
     ]
    },
    {
     "name": "stdout",
     "output_type": "stream",
     "text": [
      "Extracting ./data/MNIST/raw/t10k-images-idx3-ubyte.gz to ./data/MNIST/raw\n",
      "\n",
      "Downloading http://yann.lecun.com/exdb/mnist/t10k-labels-idx1-ubyte.gz\n",
      "Failed to download (trying next):\n",
      "HTTP Error 404: Not Found\n",
      "\n",
      "Downloading https://ossci-datasets.s3.amazonaws.com/mnist/t10k-labels-idx1-ubyte.gz\n",
      "Downloading https://ossci-datasets.s3.amazonaws.com/mnist/t10k-labels-idx1-ubyte.gz to ./data/MNIST/raw/t10k-labels-idx1-ubyte.gz\n"
     ]
    },
    {
     "name": "stderr",
     "output_type": "stream",
     "text": [
      "100%|██████████| 4.54k/4.54k [00:00<00:00, 6.06MB/s]"
     ]
    },
    {
     "name": "stdout",
     "output_type": "stream",
     "text": [
      "Extracting ./data/MNIST/raw/t10k-labels-idx1-ubyte.gz to ./data/MNIST/raw\n",
      "\n"
     ]
    },
    {
     "name": "stderr",
     "output_type": "stream",
     "text": [
      "\n"
     ]
    }
   ],
   "source": [
    "# Vérifier si un GPU est disponible\n",
    "device = torch.device(\"cuda\" if torch.cuda.is_available() else \"cpu\")\n",
    "\n",
    "# Chargement des données MNIST\n",
    "transform = transforms.Compose([transforms.ToTensor(), transforms.Normalize((0.5,), (0.5,))])  # MNIST est en niveaux de gris\n",
    "\n",
    "batch_size = 32\n",
    "# Dataloaders\n",
    "trainset = datasets.MNIST(root='./data', train=True, download=True, transform=transform)\n",
    "train_loader = DataLoader(trainset, batch_size=batch_size, shuffle=True)\n",
    "testset = datasets.MNIST(root='./data', train=False, download=True, transform=transform)\n",
    "test_loader = DataLoader(testset, batch_size=batch_size, shuffle=False, drop_last=True) # drop_last to stack the outputs and target later"
   ]
  },
  {
   "cell_type": "code",
   "execution_count": 7,
   "metadata": {
    "execution": {
     "iopub.execute_input": "2025-03-12T19:16:37.602172Z",
     "iopub.status.busy": "2025-03-12T19:16:37.601965Z",
     "iopub.status.idle": "2025-03-12T19:16:37.609133Z",
     "shell.execute_reply": "2025-03-12T19:16:37.608270Z",
     "shell.execute_reply.started": "2025-03-12T19:16:37.602154Z"
    },
    "trusted": true
   },
   "outputs": [],
   "source": [
    "def compute_calibration_curve(outputs, labels, num_bins=20):\n",
    "    \"\"\"\n",
    "    Compute the calibration curve and Expected Calibration Error (ECE).\n",
    "\n",
    "    Parameters:\n",
    "        outputs (torch.Tensor): Model outputs (probabilities), shape (N, num_classes).\n",
    "        labels (torch.Tensor): Ground-truth labels, shape (N,).\n",
    "        num_bins (int): Number of bins for calibration.\n",
    "\n",
    "    Returns:\n",
    "        dict: Contains \"confidence\", \"accuracy\", \"proportions\", and \"ece\".\n",
    "    \"\"\"\n",
    "    # Flatten outputs and labels\n",
    "    labels = labels.view(-1)  # Ensure labels are 1D\n",
    "    outputs = outputs.view(labels.size(0), -1)  # Ensure correct shape\n",
    "\n",
    "    # Get confidences (max probabilities) and predicted classes\n",
    "    confidences, predictions = torch.max(outputs, dim=1)\n",
    "    accuracies = (predictions == labels).float()  # Boolean to float (1=correct, 0=incorrect)\n",
    "\n",
    "    # Sort confidences to determine bin edges\n",
    "    num_inputs = confidences.shape[0]\n",
    "    bins = torch.sort(confidences)[0][::(num_inputs + num_bins - 1) // num_bins]\n",
    "    if num_inputs % ((num_inputs + num_bins - 1) // num_bins) != 1:\n",
    "        bins = torch.cat((bins, confidences.max().unsqueeze(0)))\n",
    "\n",
    "    # Initialize bin statistics\n",
    "    bin_confidences, bin_accuracies, bin_proportions = [], [], []\n",
    "    ece = 0.0  # Expected Calibration Error\n",
    "\n",
    "    # Compute calibration metrics for each bin\n",
    "    for bin_lower, bin_upper in zip(bins[:-1], bins[1:]):\n",
    "        in_bin = (confidences > bin_lower) & (confidences <= bin_upper)\n",
    "        prop_in_bin = in_bin.float().mean().item()\n",
    "\n",
    "        if prop_in_bin > 0:\n",
    "            accuracy_in_bin = accuracies[in_bin].mean().item()\n",
    "            avg_confidence_in_bin = confidences[in_bin].mean().item()\n",
    "            ece += abs(avg_confidence_in_bin - accuracy_in_bin) * prop_in_bin\n",
    "\n",
    "            bin_confidences.append(avg_confidence_in_bin)\n",
    "            bin_accuracies.append(accuracy_in_bin)\n",
    "            bin_proportions.append(prop_in_bin)\n",
    "\n",
    "    # Convert lists to tensors\n",
    "    return {\n",
    "        \"confidence\": torch.tensor(bin_confidences),\n",
    "        \"accuracy\": torch.tensor(bin_accuracies),\n",
    "        \"proportions\": torch.tensor(bin_proportions),\n",
    "        \"ece\": ece\n",
    "    }\n"
   ]
  },
  {
   "cell_type": "code",
   "execution_count": 8,
   "metadata": {
    "execution": {
     "iopub.execute_input": "2025-03-12T19:16:37.611464Z",
     "iopub.status.busy": "2025-03-12T19:16:37.611213Z",
     "iopub.status.idle": "2025-03-12T19:16:58.487267Z",
     "shell.execute_reply": "2025-03-12T19:16:58.486404Z",
     "shell.execute_reply.started": "2025-03-12T19:16:37.611443Z"
    },
    "trusted": true
   },
   "outputs": [
    {
     "name": "stderr",
     "output_type": "stream",
     "text": [
      "Burn in phase: 100%|██████████| 20/20 [00:02<00:00,  8.41it/s]\n",
      "Sampling phase: 100%|██████████| 200/200 [00:18<00:00, 10.96it/s]"
     ]
    },
    {
     "name": "stdout",
     "output_type": "stream",
     "text": [
      "Sampling finished. 200 samples with 0.465 acceptance_ratio.\n"
     ]
    },
    {
     "name": "stderr",
     "output_type": "stream",
     "text": [
      "\n"
     ]
    }
   ],
   "source": [
    "prior_mean, prior_var = 0, 1/5\n",
    "prior_std = np.sqrt(prior_var)\n",
    "\n",
    "# Initialisation du modèle et envoi du modèle sur le GPU\n",
    "model = CNN(output_dim=10).to(device)\n",
    "initialize_weights(model, mean=0.0, std=prior_std)\n",
    "theta = [p.clone().detach().to(device) for p in model.parameters()]  # Déplacer les paramètres du modèle sur le GPU\n",
    "\n",
    "# Hyperparamètres\n",
    "trajectory_length = (np.pi * prior_std)/2\n",
    "step_size = 0.0005 # delta\n",
    "n_leapfrog = 20 #int(trajectory_length // step_size) # paper\n",
    "n_burnin = 20\n",
    "n_samples = 200\n",
    "n_classes = 10\n",
    "\n",
    "\n",
    "def HMC_sampling(device, model, theta, train_loader, step_size, num_steps, n_burnin, n_samples):\n",
    "    samples, num_acceptations = [], 0\n",
    "    \n",
    "    # Burnin phase\n",
    "    for _ in tqdm(range(n_burnin), desc=\"Burn in phase\"):\n",
    "        r = [torch.randn_like(p).to(device) for p in theta]  # momentum\n",
    "        data, target = next(iter(train_loader))\n",
    "        data, target = data.to(device), target.to(device)  \n",
    "    \n",
    "        theta, r = leapfrog(theta, r, step_size, num_steps, model, data, target) # leapfrog\n",
    "\n",
    "    \n",
    "    # Sampling phase\n",
    "    for _ in tqdm(range(n_samples), desc=\"Sampling phase\"):\n",
    "        r = [torch.randn_like(p).to(device) for p in theta]  # momentum\n",
    "        data, target = next(iter(train_loader))\n",
    "        data, target = data.to(device), target.to(device) \n",
    "    \n",
    "        new_theta, new_r = leapfrog(theta, r, step_size, num_steps, model, data, target) # leapfrog\n",
    "        \n",
    "        theta, acceptation = acceptance(theta, r, new_theta, new_r, model, data, target, device)\n",
    "        num_acceptations += acceptation\n",
    "\n",
    "        del r, new_theta, new_r\n",
    "        torch.cuda.empty_cache()\n",
    "        \n",
    "        samples.append([p.clone().detach().cpu() for p in theta])  # Save samples\n",
    "    \n",
    "    print(f\"Sampling finished. {len(samples)} samples with {num_acceptations/n_samples} acceptance_ratio.\")\n",
    "    return samples\n",
    "\n",
    "samples = HMC_sampling(device, model, theta, train_loader, step_size, n_leapfrog, n_burnin, n_samples)"
   ]
  },
  {
   "cell_type": "code",
   "execution_count": 9,
   "metadata": {
    "execution": {
     "iopub.execute_input": "2025-03-12T19:16:58.488990Z",
     "iopub.status.busy": "2025-03-12T19:16:58.488728Z",
     "iopub.status.idle": "2025-03-12T19:19:16.538988Z",
     "shell.execute_reply": "2025-03-12T19:19:16.538089Z",
     "shell.execute_reply.started": "2025-03-12T19:16:58.488969Z"
    },
    "trusted": true
   },
   "outputs": [
    {
     "name": "stderr",
     "output_type": "stream",
     "text": [
      "Predicting the test set: 100%|██████████| 312/312 [02:17<00:00,  2.26it/s]\n"
     ]
    },
    {
     "name": "stdout",
     "output_type": "stream",
     "text": [
      "\n",
      "Accuracy :  0.8289204239845276\n",
      "Confidence :  0.7724199891090393\n",
      "ECE :  0.05452064217015962\n",
      "log likelihood :  -17131.275390625\n"
     ]
    }
   ],
   "source": [
    "\n",
    "n_classes = 10\n",
    "outputs = []\n",
    "targets = []\n",
    "model.eval()  # Mettre le modèle en mode évaluation\n",
    "with torch.no_grad():\n",
    "  for data, target in tqdm(test_loader, desc=\"Predicting the test set\"):\n",
    "      data, target = data.to(device), target.to(device)  # Envoyer les données sur le GPU\n",
    "\n",
    "      # Obtenez les prédictions avec BMA\n",
    "      preds, avg_pred = bma_inference(model, samples, data, device)\n",
    "\n",
    "      outputs.append(preds)\n",
    "      targets.append(target)\n",
    "outputs = torch.stack(outputs).view(-1, n_classes)\n",
    "targets = torch.stack(targets).view(-1)\n",
    "\n",
    "results = compute_calibration_curve(outputs, targets)\n",
    "\n",
    "print(\"\\nAccuracy : \", results[\"accuracy\"].mean().item())\n",
    "print(\"Confidence : \", results[\"confidence\"].mean().item())\n",
    "print(\"ECE : \", results[\"ece\"])\n",
    "\n",
    "log_likelihood = -F.cross_entropy(outputs, targets, reduction='sum')\n",
    "print(\"log likelihood : \", log_likelihood.item())\n"
   ]
  },
  {
   "cell_type": "code",
   "execution_count": 10,
   "metadata": {
    "execution": {
     "iopub.execute_input": "2025-03-12T19:19:16.540298Z",
     "iopub.status.busy": "2025-03-12T19:19:16.539977Z",
     "iopub.status.idle": "2025-03-12T19:19:16.546295Z",
     "shell.execute_reply": "2025-03-12T19:19:16.545507Z",
     "shell.execute_reply.started": "2025-03-12T19:19:16.540265Z"
    },
    "trusted": true
   },
   "outputs": [],
   "source": [
    "def compute_dataset_log_prob(model, dataloader, prior_std=1.0, device=\"cuda\"):\n",
    "    \"\"\"\n",
    "    Calcule le log prior, log likelihood et log posterior sur tout le dataset.\n",
    "\n",
    "    Parameters:\n",
    "        model (torch.nn.Module): Le modèle PyTorch.\n",
    "        dataloader (torch.utils.data.DataLoader): Le DataLoader du dataset.\n",
    "        prior_std (float): Écart-type du prior gaussien.\n",
    "        device (str): \"cuda\" ou \"cpu\" selon le matériel.\n",
    "\n",
    "    Returns:\n",
    "        dict: Contenant \"log_prior\", \"log_likelihood\" et \"log_posterior\".\n",
    "    \"\"\"\n",
    "    model.eval()  # Met le modèle en mode évaluation (important pour désactiver dropout, batchnorm...)\n",
    "    log_likelihood_total = 0.0\n",
    "    total_samples = 0\n",
    "\n",
    "    # Calcul du log prior (indépendant des données)\n",
    "    log_prior = -0.5 * sum(torch.sum(p ** 2) for p in model.parameters()) / (prior_std ** 2)\n",
    "\n",
    "    # Calcul du log likelihood en parcourant tout le dataset\n",
    "    with torch.no_grad():\n",
    "        for data, target in dataloader:\n",
    "            data, target = data.to(device), target.to(device)  # Déplacement sur le bon device\n",
    "\n",
    "            logits = model(data)\n",
    "            log_likelihood = -F.cross_entropy(logits, target, reduction='sum')\n",
    "\n",
    "            log_likelihood_total += log_likelihood.item()\n",
    "            total_samples += target.size(0)\n",
    "\n",
    "    # Normalisation par le nombre d'échantillons pour obtenir une moyenne\n",
    "    log_likelihood_mean = log_likelihood_total / total_samples\n",
    "    log_posterior = log_likelihood_mean + log_prior  # Posterior = Prior + Likelihood\n",
    "\n",
    "    return {\n",
    "        \"log_prior\": log_prior.item(),\n",
    "        \"log_likelihood\": log_likelihood_mean,\n",
    "        \"log_posterior\": log_posterior.item()\n",
    "    }"
   ]
  },
  {
   "cell_type": "code",
   "execution_count": 20,
   "metadata": {
    "execution": {
     "iopub.execute_input": "2025-03-12T19:48:36.294505Z",
     "iopub.status.busy": "2025-03-12T19:48:36.294223Z",
     "iopub.status.idle": "2025-03-12T19:56:09.689578Z",
     "shell.execute_reply": "2025-03-12T19:56:09.688665Z",
     "shell.execute_reply.started": "2025-03-12T19:48:36.294484Z"
    },
    "trusted": true
   },
   "outputs": [
    {
     "data": {
      "image/png": "[encoded data removed]",
      "text/plain": [
       "<Figure size 1500x500 with 6 Axes>"
      ]
     },
     "metadata": {},
     "output_type": "display_data"
    }
   ],
   "source": [
    "import matplotlib.pyplot as plt\n",
    "\n",
    "def visualize_posterior_density(model, test_loader, samples, prior_std=1.0, device=\"cuda\", grid_size=15):\n",
    "    \"\"\"\n",
    "    Visualisation de la densité du posterior log-density, log-likelihood et log-prior dans \n",
    "    un sous-espace affine de paramètres défini par trois échantillons HMC.\n",
    "\n",
    "    Parameters:\n",
    "        model (torch.nn.Module): Modèle PyTorch\n",
    "        test_loader (torch.utils.data.DataLoader): Dataloader pour évaluer les métriques\n",
    "        samples (list of torch.Tensor): Liste contenant au moins 102 poids échantillonnés via HMC\n",
    "        prior_std (float): Écart-type du prior\n",
    "        device (str): \"cuda\" ou \"cpu\"\n",
    "        grid_size (int): Nombre de points dans chaque dimension pour la visualisation\n",
    "    \"\"\"\n",
    "    # Sélection des trois échantillons de poids définissant l’espace affine\n",
    "    tier = int(len(samples) / 3)\n",
    "    w1, w2, w3 = samples[0], samples[10], samples[60]\n",
    "\n",
    "    # Génération des coefficients a et b dans [0,1]\n",
    "    a_vals = np.linspace(-1, 2, grid_size)\n",
    "    b_vals = np.linspace(-1, 2, grid_size)\n",
    "    \n",
    "    # Matrices pour stocker les valeurs des métriques\n",
    "    log_priors = np.zeros((grid_size, grid_size))\n",
    "    log_likelihoods = np.zeros((grid_size, grid_size))\n",
    "    log_posteriors = np.zeros((grid_size, grid_size))\n",
    "\n",
    "    # Parcours de la grille 2D\n",
    "    for i, a in enumerate(a_vals):\n",
    "        for j, b in enumerate(b_vals):\n",
    "            # Interpolation des poids selon la formule donnée\n",
    "            w_interp = [(w1_k * a + w2_k * b + w3_k * (1 - a - b)) for w1_k, w2_k, w3_k in zip(w1, w2, w3)]\n",
    "            \n",
    "            # Appliquer les poids interpolés au modèle\n",
    "            set_model_params(model, w_interp)\n",
    "            \n",
    "            # Calculer les métriques\n",
    "            metrics = compute_dataset_log_prob(model, test_loader, prior_std=prior_std, device=device)\n",
    "            \n",
    "            # Stocker les valeurs\n",
    "            log_priors[i, j] = metrics[\"log_prior\"]\n",
    "            log_likelihoods[i, j] = metrics[\"log_likelihood\"]\n",
    "            log_posteriors[i, j] = metrics[\"log_posterior\"]\n",
    "\n",
    "    # Création des figures\n",
    "    fig, axes = plt.subplots(1, 3, figsize=(15, 5))\n",
    "\n",
    "    # Création des grilles pour affichage\n",
    "    A, B = np.meshgrid(a_vals, b_vals)\n",
    "\n",
    "    # Log Prior\n",
    "    ax = axes[0]\n",
    "    contour = ax.contourf(A, B, log_priors.T, cmap=\"viridis\")\n",
    "    fig.colorbar(contour, ax=ax)\n",
    "    ax.set_title(\"Log Prior\")\n",
    "    ax.set_xlabel(\"a\")\n",
    "    ax.set_ylabel(\"b\")\n",
    "\n",
    "    # Ajouter des points distinctifs : (0, 0), (1, 0) et (0, 1)\n",
    "    ax.plot(0, 0, 'k.', markersize=5)  # Point noir pour (0, 0)\n",
    "    ax.plot(1, 0, 'k.', markersize=5)  # Point noir pour (1, 0)\n",
    "    ax.plot(0, 1, 'k.', markersize=5)  # Point noir pour (0, 1)\n",
    "\n",
    "    # Log Likelihood\n",
    "    ax = axes[1]\n",
    "    contour = ax.contourf(A, B, log_likelihoods.T, cmap=\"plasma\")\n",
    "    fig.colorbar(contour, ax=ax)\n",
    "    ax.set_title(\"Log Likelihood\")\n",
    "    ax.set_xlabel(\"a\")\n",
    "    ax.set_ylabel(\"b\")\n",
    "\n",
    "    # Ajouter des points distinctifs : (0, 0), (1, 0) et (0, 1)\n",
    "    ax.plot(0, 0, 'k.', markersize=5)  # Point noir pour (0, 0)\n",
    "    ax.plot(1, 0, 'k.', markersize=5)  # Point noir pour (1, 0)\n",
    "    ax.plot(0, 1, 'k.', markersize=5)  # Point noir pour (0, 1)\n",
    "\n",
    "    # Log Posterior\n",
    "    ax = axes[2]\n",
    "    contour = ax.contourf(A, B, log_posteriors.T, cmap=\"inferno\")\n",
    "    fig.colorbar(contour, ax=ax)\n",
    "    ax.set_title(\"Log Posterior\")\n",
    "    ax.set_xlabel(\"a\")\n",
    "    ax.set_ylabel(\"b\")\n",
    "\n",
    "    # Ajouter des points distinctifs : (0, 0), (1, 0) et (0, 1)\n",
    "    ax.plot(0, 0, 'k.', markersize=5)  # Point noir pour (0, 0)\n",
    "    ax.plot(1, 0, 'k.', markersize=5)  # Point noir pour (1, 0)\n",
    "    ax.plot(0, 1, 'k.', markersize=5)  # Point noir pour (0, 1)\n",
    "\n",
    "    plt.tight_layout()\n",
    "    plt.show()\n",
    "\n",
    "\n",
    "# Supposons que `samples` soit une liste de 102 poids obtenus via HMC\n",
    "visualize_posterior_density(model, test_loader, samples, prior_std=prior_std, device=device)\n"
   ]
  }
 ],
 "metadata": {
  "kaggle": {
   "accelerator": "gpu",
   "dataSources": [],
   "dockerImageVersionId": 30919,
   "isGpuEnabled": true,
   "isInternetEnabled": true,
   "language": "python",
   "sourceType": "notebook"
  },
  "kernelspec": {
   "display_name": "Python 3",
   "language": "python",
   "name": "python3"
  },
  "language_info": {
   "codemirror_mode": {
    "name": "ipython",
    "version": 3
   },
   "file_extension": ".py",
   "mimetype": "text/x-python",
   "name": "python",
   "nbconvert_exporter": "python",
   "pygments_lexer": "ipython3",
   "version": "3.10.12"
  }
 },
 "nbformat": 4,
 "nbformat_minor": 4
}
